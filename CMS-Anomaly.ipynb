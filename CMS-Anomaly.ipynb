{
 "cells": [
  {
   "cell_type": "code",
   "execution_count": 1,
   "metadata": {
    "collapsed": true
   },
   "outputs": [],
   "source": [
    "import numpy as np\n",
    "import pandas as pd\n",
    "\n",
    "%matplotlib inline\n",
    "import matplotlib.pyplot as plt\n",
    "\n",
    "from collections import defaultdict\n",
    "\n",
    "import os\n",
    "import os.path as osp"
   ]
  },
  {
   "cell_type": "code",
   "execution_count": 2,
   "metadata": {
    "collapsed": true
   },
   "outputs": [],
   "source": [
    "import re\n",
    "stream_re = re.compile(r\"(\\w+)_\\w+.npz\")\n",
    "\n",
    "index_file = \"./data/Cert_136033-149442_7TeV_Apr21ReReco_Collisions10_JSON_v2.txt\"\n",
    "\n",
    "columns = [\n",
    "    'run', 'lumiBlock', 'timeHigh', 'timeLow',\n",
    "    'jet_pt', 'jet_eta', 'jet_phi', 'jet_mass', 'jet_fX', 'yet_fY', 'yet_fZ',\n",
    "    'pho_pt', 'pho_eta', 'pho_phi',             'pho_fX', 'pho_fY', 'pho_fZ',\n",
    "    'muo_pt', 'muo_eta', 'muo_phi', 'muo_mass', 'muo_fX', 'muo_fY', 'muo_fZ',\n",
    "    'instantLumi'\n",
    "]\n",
    "\n",
    "features = [\n",
    "    'jet_pt', 'jet_eta', 'jet_phi', 'jet_mass', 'jet_fX', 'yet_fY', 'yet_fZ',\n",
    "    'pho_pt', 'pho_eta', 'pho_phi',             'pho_fX', 'pho_fY', 'pho_fZ',\n",
    "    'muo_pt', 'muo_eta', 'muo_phi', 'muo_mass', 'muo_fX', 'muo_fY', 'muo_fZ',\n",
    "    'instantLumi'\n",
    "]"
   ]
  },
  {
   "cell_type": "code",
   "execution_count": 3,
   "metadata": {
    "collapsed": true
   },
   "outputs": [],
   "source": [
    "def read(path='./data/', target_stream = 'minibias', columns = None):\n",
    "    df = pd.DataFrame()\n",
    "\n",
    "    get_stream = lambda item: stream_re.findall(item)[0]\n",
    "    \n",
    "    streams_data = list()\n",
    "    \n",
    "    for item in [ x for x in os.listdir(path) if x.endswith('.npz') ]:\n",
    "        stream = get_stream(item)\n",
    "        if stream != target_stream:\n",
    "            continue\n",
    "\n",
    "        print 'Reading', item\n",
    "        \n",
    "        npz = np.load(osp.join(path, item))\n",
    "\n",
    "        assert npz.keys() == ['array']\n",
    "        \n",
    "        array = npz['array']\n",
    "        df = pd.DataFrame(array)\n",
    "        \n",
    "        streams_data.append(df)\n",
    "        npz.close()\n",
    "    \n",
    "    df = pd.concat(streams_data)\n",
    "\n",
    "    if columns is not None:\n",
    "        df.columns = columns\n",
    "\n",
    "    df['run'] = df['run'].astype('int64')\n",
    "    df['lumiBlock'] = df['lumiBlock'].astype('int64')\n",
    "    df['time'] = df['timeHigh'] * 1.0e+6 + df['timeLow']\n",
    "\n",
    "    df[features] = df[features].astype('float32')\n",
    "\n",
    "    del df['timeHigh']\n",
    "    del df['timeLow']\n",
    "\n",
    "    return df"
   ]
  },
  {
   "cell_type": "code",
   "execution_count": 4,
   "metadata": {
    "collapsed": false
   },
   "outputs": [
    {
     "name": "stdout",
     "output_type": "stream",
     "text": [
      "Reading minibias_pac.npz\n",
      "Reading minibias_paf.npz\n",
      "Reading minibias_pab.npz\n",
      "Reading minibias_paa.npz\n",
      "Reading minibias_pae.npz\n",
      "Reading minibias_pad.npz\n"
     ]
    }
   ],
   "source": [
    "data = read(columns=columns)"
   ]
  },
  {
   "cell_type": "code",
   "execution_count": 5,
   "metadata": {
    "collapsed": false
   },
   "outputs": [
    {
     "data": {
      "text/html": [
       "<div>\n",
       "<table border=\"1\" class=\"dataframe\">\n",
       "  <thead>\n",
       "    <tr style=\"text-align: right;\">\n",
       "      <th></th>\n",
       "      <th>run</th>\n",
       "      <th>lumiBlock</th>\n",
       "      <th>jet_pt</th>\n",
       "      <th>jet_eta</th>\n",
       "      <th>jet_phi</th>\n",
       "      <th>jet_mass</th>\n",
       "      <th>jet_fX</th>\n",
       "      <th>yet_fY</th>\n",
       "      <th>yet_fZ</th>\n",
       "      <th>pho_pt</th>\n",
       "      <th>...</th>\n",
       "      <th>pho_fZ</th>\n",
       "      <th>muo_pt</th>\n",
       "      <th>muo_eta</th>\n",
       "      <th>muo_phi</th>\n",
       "      <th>muo_mass</th>\n",
       "      <th>muo_fX</th>\n",
       "      <th>muo_fY</th>\n",
       "      <th>muo_fZ</th>\n",
       "      <th>instantLumi</th>\n",
       "      <th>time</th>\n",
       "    </tr>\n",
       "  </thead>\n",
       "  <tbody>\n",
       "    <tr>\n",
       "      <th>0</th>\n",
       "      <td>146807</td>\n",
       "      <td>30</td>\n",
       "      <td>4.624308</td>\n",
       "      <td>0.236238</td>\n",
       "      <td>0.069428</td>\n",
       "      <td>0.31042</td>\n",
       "      <td>0.094528</td>\n",
       "      <td>0.015597</td>\n",
       "      <td>0.102385</td>\n",
       "      <td>0</td>\n",
       "      <td>...</td>\n",
       "      <td>0</td>\n",
       "      <td>0</td>\n",
       "      <td>0</td>\n",
       "      <td>0</td>\n",
       "      <td>0</td>\n",
       "      <td>0</td>\n",
       "      <td>0</td>\n",
       "      <td>0</td>\n",
       "      <td>27.273905</td>\n",
       "      <td>1.285655e+15</td>\n",
       "    </tr>\n",
       "    <tr>\n",
       "      <th>1</th>\n",
       "      <td>146807</td>\n",
       "      <td>30</td>\n",
       "      <td>0.000000</td>\n",
       "      <td>0.000000</td>\n",
       "      <td>0.000000</td>\n",
       "      <td>0.00000</td>\n",
       "      <td>0.000000</td>\n",
       "      <td>0.000000</td>\n",
       "      <td>0.000000</td>\n",
       "      <td>0</td>\n",
       "      <td>...</td>\n",
       "      <td>0</td>\n",
       "      <td>0</td>\n",
       "      <td>0</td>\n",
       "      <td>0</td>\n",
       "      <td>0</td>\n",
       "      <td>0</td>\n",
       "      <td>0</td>\n",
       "      <td>0</td>\n",
       "      <td>27.273905</td>\n",
       "      <td>1.285655e+15</td>\n",
       "    </tr>\n",
       "    <tr>\n",
       "      <th>2</th>\n",
       "      <td>146807</td>\n",
       "      <td>30</td>\n",
       "      <td>0.000000</td>\n",
       "      <td>0.000000</td>\n",
       "      <td>0.000000</td>\n",
       "      <td>0.00000</td>\n",
       "      <td>0.000000</td>\n",
       "      <td>0.000000</td>\n",
       "      <td>0.000000</td>\n",
       "      <td>0</td>\n",
       "      <td>...</td>\n",
       "      <td>0</td>\n",
       "      <td>0</td>\n",
       "      <td>0</td>\n",
       "      <td>0</td>\n",
       "      <td>0</td>\n",
       "      <td>0</td>\n",
       "      <td>0</td>\n",
       "      <td>0</td>\n",
       "      <td>27.273905</td>\n",
       "      <td>1.285655e+15</td>\n",
       "    </tr>\n",
       "    <tr>\n",
       "      <th>3</th>\n",
       "      <td>146807</td>\n",
       "      <td>30</td>\n",
       "      <td>0.000000</td>\n",
       "      <td>0.000000</td>\n",
       "      <td>0.000000</td>\n",
       "      <td>0.00000</td>\n",
       "      <td>0.000000</td>\n",
       "      <td>0.000000</td>\n",
       "      <td>0.000000</td>\n",
       "      <td>0</td>\n",
       "      <td>...</td>\n",
       "      <td>0</td>\n",
       "      <td>0</td>\n",
       "      <td>0</td>\n",
       "      <td>0</td>\n",
       "      <td>0</td>\n",
       "      <td>0</td>\n",
       "      <td>0</td>\n",
       "      <td>0</td>\n",
       "      <td>27.273905</td>\n",
       "      <td>1.285655e+15</td>\n",
       "    </tr>\n",
       "    <tr>\n",
       "      <th>4</th>\n",
       "      <td>146807</td>\n",
       "      <td>30</td>\n",
       "      <td>0.000000</td>\n",
       "      <td>0.000000</td>\n",
       "      <td>0.000000</td>\n",
       "      <td>0.00000</td>\n",
       "      <td>0.000000</td>\n",
       "      <td>0.000000</td>\n",
       "      <td>0.000000</td>\n",
       "      <td>0</td>\n",
       "      <td>...</td>\n",
       "      <td>0</td>\n",
       "      <td>0</td>\n",
       "      <td>0</td>\n",
       "      <td>0</td>\n",
       "      <td>0</td>\n",
       "      <td>0</td>\n",
       "      <td>0</td>\n",
       "      <td>0</td>\n",
       "      <td>27.273905</td>\n",
       "      <td>1.285655e+15</td>\n",
       "    </tr>\n",
       "  </tbody>\n",
       "</table>\n",
       "<p>5 rows × 24 columns</p>\n",
       "</div>"
      ],
      "text/plain": [
       "      run  lumiBlock    jet_pt   jet_eta   jet_phi  jet_mass    jet_fX  \\\n",
       "0  146807         30  4.624308  0.236238  0.069428   0.31042  0.094528   \n",
       "1  146807         30  0.000000  0.000000  0.000000   0.00000  0.000000   \n",
       "2  146807         30  0.000000  0.000000  0.000000   0.00000  0.000000   \n",
       "3  146807         30  0.000000  0.000000  0.000000   0.00000  0.000000   \n",
       "4  146807         30  0.000000  0.000000  0.000000   0.00000  0.000000   \n",
       "\n",
       "     yet_fY    yet_fZ  pho_pt      ...       pho_fZ  muo_pt  muo_eta  muo_phi  \\\n",
       "0  0.015597  0.102385       0      ...            0       0        0        0   \n",
       "1  0.000000  0.000000       0      ...            0       0        0        0   \n",
       "2  0.000000  0.000000       0      ...            0       0        0        0   \n",
       "3  0.000000  0.000000       0      ...            0       0        0        0   \n",
       "4  0.000000  0.000000       0      ...            0       0        0        0   \n",
       "\n",
       "   muo_mass  muo_fX  muo_fY  muo_fZ  instantLumi          time  \n",
       "0         0       0       0       0    27.273905  1.285655e+15  \n",
       "1         0       0       0       0    27.273905  1.285655e+15  \n",
       "2         0       0       0       0    27.273905  1.285655e+15  \n",
       "3         0       0       0       0    27.273905  1.285655e+15  \n",
       "4         0       0       0       0    27.273905  1.285655e+15  \n",
       "\n",
       "[5 rows x 24 columns]"
      ]
     },
     "execution_count": 5,
     "metadata": {},
     "output_type": "execute_result"
    }
   ],
   "source": [
    "data.head()"
   ]
  },
  {
   "cell_type": "code",
   "execution_count": 6,
   "metadata": {
    "collapsed": false
   },
   "outputs": [],
   "source": [
    "percentiles = [1, 5, 10, 25, 50, 75, 90, 95, 99]\n",
    "features_per_column = len(percentiles) + 4\n",
    "\n",
    "def extract_features(xs):\n",
    "    result = np.ndarray(shape=(xs.shape[1], features_per_column),  dtype='float64')\n",
    "\n",
    "    for i in xrange(xs.shape[1]):\n",
    "        x = xs[:, i]\n",
    "        \n",
    "        result[i, 0] = np.sum(x == 0.0)\n",
    "        result[i, 1] = np.mean(x == 0.0)\n",
    "        \n",
    "        x_ = x[x != 0.0]\n",
    "        \n",
    "        if result[i, 1] < 1.0:\n",
    "            result[i, 2] = np.mean(x_)\n",
    "            result[i, 3] = np.std(x_)\n",
    "\n",
    "            result[i, 4:] = np.percentile(x, percentiles) - np.mean(x)\n",
    "        else:\n",
    "            result[i, 2:] = 0.0\n",
    "            result[i, 3] = -1.0\n",
    "\n",
    "    return result.ravel()\n",
    "\n",
    "\n",
    "def group_n_extract(data):\n",
    "    grouped = data.groupby(by=['run', 'lumiBlock'], sort=False)\n",
    "    \n",
    "    run_lumi = list()\n",
    "    stats = list()\n",
    "    \n",
    "    for i in grouped.groups.keys():\n",
    "        run, lumi_block = i\n",
    "        idx = np.array(grouped.groups[i])\n",
    "\n",
    "        lumidata = data.iloc[idx][features].values\n",
    "        fs = extract_features(lumidata)\n",
    "\n",
    "        run_lumi.append((run, lumi_block))\n",
    "        stats.append(fs)\n",
    "    \n",
    "    run_lumi = np.array(run_lumi, dtype='int32')\n",
    "    stats = np.array(stats)\n",
    "\n",
    "    return run_lumi, stats"
   ]
  },
  {
   "cell_type": "code",
   "execution_count": 7,
   "metadata": {
    "collapsed": false
   },
   "outputs": [],
   "source": [
    "idx, X = group_n_extract(data)"
   ]
  },
  {
   "cell_type": "code",
   "execution_count": 8,
   "metadata": {
    "collapsed": false
   },
   "outputs": [
    {
     "data": {
      "text/plain": [
       "array([[146644,   1165],\n",
       "       [146944,    225],\n",
       "       [148032,    248],\n",
       "       ..., \n",
       "       [147929,    558],\n",
       "       [147289,    444],\n",
       "       [146437,    155]], dtype=int32)"
      ]
     },
     "execution_count": 8,
     "metadata": {},
     "output_type": "execute_result"
    }
   ],
   "source": [
    "idx"
   ]
  },
  {
   "cell_type": "code",
   "execution_count": 9,
   "metadata": {
    "collapsed": true
   },
   "outputs": [],
   "source": [
    "del data"
   ]
  },
  {
   "cell_type": "code",
   "execution_count": 11,
   "metadata": {
    "collapsed": false
   },
   "outputs": [
    {
     "data": {
      "text/plain": [
       "13"
      ]
     },
     "execution_count": 11,
     "metadata": {},
     "output_type": "execute_result"
    }
   ],
   "source": [
    "features_per_column"
   ]
  },
  {
   "cell_type": "code",
   "execution_count": 12,
   "metadata": {
    "collapsed": false
   },
   "outputs": [],
   "source": [
    "m = X.shape[1]"
   ]
  },
  {
   "cell_type": "code",
   "execution_count": 13,
   "metadata": {
    "collapsed": false
   },
   "outputs": [],
   "source": [
    "jet_features = range(7 * features_per_column) + [m - 1]\n",
    "pho_features = range(7 * features_per_column, 13 * features_per_column) + [m - 1]\n",
    "mou_features = range(13 * features_per_column, 20 * features_per_column) + [m - 1]"
   ]
  },
  {
   "cell_type": "code",
   "execution_count": 14,
   "metadata": {
    "collapsed": true
   },
   "outputs": [],
   "source": [
    "X_jet = X[:, jet_features]"
   ]
  },
  {
   "cell_type": "code",
   "execution_count": 15,
   "metadata": {
    "collapsed": false
   },
   "outputs": [
    {
     "data": {
      "text/plain": [
       "(40772, 92)"
      ]
     },
     "execution_count": 15,
     "metadata": {},
     "output_type": "execute_result"
    }
   ],
   "source": [
    "X_jet.shape"
   ]
  },
  {
   "cell_type": "code",
   "execution_count": 16,
   "metadata": {
    "collapsed": false
   },
   "outputs": [],
   "source": [
    "import json\n",
    "\n",
    "with open(index_file, 'r') as f:\n",
    "    labels = json.load(f)"
   ]
  },
  {
   "cell_type": "code",
   "execution_count": 17,
   "metadata": {
    "collapsed": false
   },
   "outputs": [],
   "source": [
    "y = np.zeros(shape=idx.shape[0], dtype='int32')\n",
    "\n",
    "for i, (run, lumi_block) in enumerate(idx):\n",
    "    if str(run) not in labels:\n",
    "        continue\n",
    "\n",
    "    run_idxs = labels[str(run)]\n",
    "\n",
    "    for a, b in run_idxs:\n",
    "        if a <= lumi_block <= b:\n",
    "            y[i] = 1\n",
    "            continue"
   ]
  },
  {
   "cell_type": "code",
   "execution_count": 18,
   "metadata": {
    "collapsed": true
   },
   "outputs": [],
   "source": [
    "from sklearn.cross_validation import StratifiedKFold\n",
    "from sklearn.grid_search import GridSearchCV"
   ]
  },
  {
   "cell_type": "code",
   "execution_count": 19,
   "metadata": {
    "collapsed": true
   },
   "outputs": [],
   "source": [
    "from sklearn.ensemble import RandomForestClassifier\n",
    "\n",
    "clf = RandomForestClassifier(n_jobs=-1)"
   ]
  },
  {
   "cell_type": "code",
   "execution_count": 22,
   "metadata": {
    "collapsed": true
   },
   "outputs": [],
   "source": [
    "skfolds = StratifiedKFold(y, n_folds=10)\n",
    "\n",
    "param_grid = {\n",
    "    'max_depth' : [2, 5, 9, 15, 20],\n",
    "    'n_estimators' : [50, 100, 250]\n",
    "}\n",
    "\n",
    "grid_search = GridSearchCV(clf, param_grid=param_grid, cv = skfolds, scoring='roc_auc', n_jobs=1)"
   ]
  },
  {
   "cell_type": "code",
   "execution_count": 23,
   "metadata": {
    "collapsed": false
   },
   "outputs": [
    {
     "data": {
      "text/plain": [
       "GridSearchCV(cv=sklearn.cross_validation.StratifiedKFold(labels=[1 1 ..., 0 1], n_folds=10, shuffle=False, random_state=None),\n",
       "       error_score='raise',\n",
       "       estimator=RandomForestClassifier(bootstrap=True, class_weight=None, criterion='gini',\n",
       "            max_depth=None, max_features='auto', max_leaf_nodes=None,\n",
       "            min_samples_leaf=1, min_samples_split=2,\n",
       "            min_weight_fraction_leaf=0.0, n_estimators=10, n_jobs=-1,\n",
       "            oob_score=False, random_state=None, verbose=0,\n",
       "            warm_start=False),\n",
       "       fit_params={}, iid=True, n_jobs=1,\n",
       "       param_grid={'n_estimators': [50, 100, 250], 'max_depth': [2, 5, 9, 15, 20]},\n",
       "       pre_dispatch='2*n_jobs', refit=True, scoring='roc_auc', verbose=0)"
      ]
     },
     "execution_count": 23,
     "metadata": {},
     "output_type": "execute_result"
    }
   ],
   "source": [
    "grid_search.fit(X_jet, y)"
   ]
  },
  {
   "cell_type": "code",
   "execution_count": 24,
   "metadata": {
    "collapsed": false
   },
   "outputs": [
    {
     "data": {
      "text/plain": [
       "0.86030269654896041"
      ]
     },
     "execution_count": 24,
     "metadata": {},
     "output_type": "execute_result"
    }
   ],
   "source": [
    "grid_search.best_score_"
   ]
  },
  {
   "cell_type": "code",
   "execution_count": null,
   "metadata": {
    "collapsed": true
   },
   "outputs": [],
   "source": []
  }
 ],
 "metadata": {
  "kernelspec": {
   "display_name": "Python 2",
   "language": "python",
   "name": "python2"
  },
  "language_info": {
   "codemirror_mode": {
    "name": "ipython",
    "version": 2
   },
   "file_extension": ".py",
   "mimetype": "text/x-python",
   "name": "python",
   "nbconvert_exporter": "python",
   "pygments_lexer": "ipython2",
   "version": "2.7.11"
  }
 },
 "nbformat": 4,
 "nbformat_minor": 0
}
