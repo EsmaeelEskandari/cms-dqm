{
 "cells": [
  {
   "cell_type": "code",
   "execution_count": 1,
   "metadata": {
    "collapsed": false
   },
   "outputs": [],
   "source": [
    "%matplotlib inline\n",
    "import matplotlib.pyplot as plt\n",
    "\n",
    "import numpy as np\n",
    "import pandas as pd\n",
    "\n",
    "import re\n",
    "\n",
    "DATA_PATH = '../data/merged.pickle'"
   ]
  },
  {
   "cell_type": "code",
   "execution_count": 2,
   "metadata": {
    "collapsed": false
   },
   "outputs": [],
   "source": [
    "import cPickle as pickle\n",
    "\n",
    "with open(DATA_PATH, 'r') as f:\n",
    "    data = pickle.load(f)\n",
    "\n",
    "labels = np.load('../data/labels.npy')"
   ]
  },
  {
   "cell_type": "code",
   "execution_count": 3,
   "metadata": {
    "collapsed": true
   },
   "outputs": [],
   "source": [
    "non_zero_lumi_index = np.where(\n",
    "    (data['_instantLumi_minibias'] != 0.0) | \\\n",
    "    (data['_instantLumi_muons'] != 0.0) | \\\n",
    "    (data['_instantLumi_photons'] != 0.0)\n",
    ")[0]"
   ]
  },
  {
   "cell_type": "code",
   "execution_count": 4,
   "metadata": {
    "collapsed": true
   },
   "outputs": [],
   "source": [
    "def rename_features(feature):\n",
    "    return feature.replace('n_events', 'events').replace('non_zeros_weights', 'nonzeros')"
   ]
  },
  {
   "cell_type": "code",
   "execution_count": 5,
   "metadata": {
    "collapsed": false
   },
   "outputs": [
    {
     "name": "stdout",
     "output_type": "stream",
     "text": [
      "['minibias_non_zeros_weights', 'muons_non_zeros_weights', 'photons_non_zeros_weights']\n"
     ]
    }
   ],
   "source": [
    "not_features = [\n",
    "    '_luminosityBlock',\n",
    "    '_run',\n",
    "    '_instantLumi_minibias',\n",
    "    '_instantLumi_muons',\n",
    "    '_instantLumi_photons'\n",
    "]\n",
    "\n",
    "features = sorted(set(data.columns) - set(not_features))\n",
    "\n",
    "print [\n",
    "    f\n",
    "    for f in features\n",
    "    if 'zeros' in f\n",
    "]\n",
    "\n",
    "X = data[features].iloc[non_zero_lumi_index]\n",
    "y = labels[non_zero_lumi_index]\n",
    "weights = data['_instantLumi_minibias'].values[non_zero_lumi_index]\n",
    "\n",
    "features = [ rename_features(f) for f in features ]\n",
    "\n",
    "X.columns = features"
   ]
  },
  {
   "cell_type": "code",
   "execution_count": 6,
   "metadata": {
    "collapsed": false
   },
   "outputs": [
    {
     "name": "stdout",
     "output_type": "stream",
     "text": [
      "Non-zero luminosity: 26046 lumisections\n"
     ]
    }
   ],
   "source": [
    "print 'Non-zero luminosity:', non_zero_lumi_index.shape[0], 'lumisections'"
   ]
  },
  {
   "cell_type": "code",
   "execution_count": 7,
   "metadata": {
    "collapsed": true
   },
   "outputs": [],
   "source": [
    "### utility functions\n",
    "def insert(keys, d, f):\n",
    "    key = keys[0]\n",
    "\n",
    "    if len(keys) == 1:\n",
    "        d[key] = f\n",
    "    else:\n",
    "        if not d.has_key(key):\n",
    "            d[key] = dict()\n",
    "        return insert(keys[1:], d[key], f)\n",
    "\n",
    "def levels(features, n_levels = 5):\n",
    "    dicts = [features]\n",
    "\n",
    "    levels = list()\n",
    "\n",
    "    for level in range(n_levels):\n",
    "        levels.append(\n",
    "            set([ k for d in dicts for k in d ])\n",
    "        )\n",
    "    \n",
    "        dicts = [ d[k] for d in dicts for k in d ]\n",
    "    return levels\n",
    "    \n",
    "def get_feature_groups(feature_list, re_exp):\n",
    "    \"\"\"\n",
    "    Retuns:\n",
    "    1. hierachical dictionary feature groups -> feature full name\n",
    "    2. feature levels\n",
    "    3. unprocessed features\n",
    "        \n",
    "    \"\"\"\n",
    "    features = dict()\n",
    "    rest = list()\n",
    "    n_levels = set()\n",
    "\n",
    "    for f in feature_list:\n",
    "        matches = re.findall(re_exp, f)\n",
    "\n",
    "        if len(matches) == 1:\n",
    "            insert(matches[0], features, f)\n",
    "            n_levels.add(len(matches[0]))\n",
    "        elif len(matches) == 0:\n",
    "            rest.append(f)\n",
    "        else:\n",
    "            raise Exception('Very suspicious feature: %s -> %s' % (f, matches))\n",
    "    assert len(n_levels) == 1\n",
    "    return features, levels(features, n_levels=list(n_levels)[0]), rest"
   ]
  },
  {
   "cell_type": "code",
   "execution_count": 8,
   "metadata": {
    "collapsed": true
   },
   "outputs": [],
   "source": [
    "def insert_fake_path(d, level, path = 'general'):\n",
    "    if level == 0:\n",
    "        return { path : d }\n",
    "    else:\n",
    "        r = dict()\n",
    "        for k in d:\n",
    "            r[k] = insert_fake_path(d[k], level - 1, path)\n",
    "        \n",
    "        return r"
   ]
  },
  {
   "cell_type": "code",
   "execution_count": 9,
   "metadata": {
    "collapsed": false
   },
   "outputs": [],
   "source": [
    "particle_f_re = re.compile(r'([a-zA-Z]+)[_]([a-zA-Z]+)[_]([a-zA-Z]+)[_]+(q[12345])[_](\\w+)')\n",
    "particle_features, particle_levels, rest = get_feature_groups(features, particle_f_re)"
   ]
  },
  {
   "cell_type": "code",
   "execution_count": 10,
   "metadata": {
    "collapsed": false
   },
   "outputs": [
    {
     "name": "stdout",
     "output_type": "stream",
     "text": [
      "muons minibias photons\n",
      "muons photons PF calo\n",
      "phi pt fX fY fZ eta mass\n",
      "q1 q3 q2 q5 q4\n",
      "std p99 p1 p25 p75 p50 mean\n"
     ]
    }
   ],
   "source": [
    "for level in particle_levels:\n",
    "    print ' '.join(list(level))"
   ]
  },
  {
   "cell_type": "code",
   "execution_count": 11,
   "metadata": {
    "collapsed": true
   },
   "outputs": [],
   "source": [
    "particle_type_f_re = re.compile(r'([a-zA-Z]+)[_]([a-zA-Z]+)[_]([a-zA-Z]+)[_]+([a-zA-Z0-9]+)')\n",
    "particle_type_features, particle_type_levels, rest = get_feature_groups(rest, particle_type_f_re)"
   ]
  },
  {
   "cell_type": "code",
   "execution_count": 12,
   "metadata": {
    "collapsed": false
   },
   "outputs": [
    {
     "name": "stdout",
     "output_type": "stream",
     "text": [
      "muons minibias photons\n",
      "muons photons PF calo\n",
      "allParticles\n",
      "Pz Px Py\n",
      "std p99 p1 p25 p75 p50 mean\n"
     ]
    }
   ],
   "source": [
    "particle_type_features = insert_fake_path(particle_type_features, level = 2, path='allParticles')\n",
    "\n",
    "for level in levels(particle_type_features, n_levels=5):\n",
    "    print ' '.join(list(level))"
   ]
  },
  {
   "cell_type": "code",
   "execution_count": 13,
   "metadata": {
    "collapsed": true
   },
   "outputs": [],
   "source": [
    "event_f_re = re.compile(r'([a-zA-Z]+)[_]([a-zA-Z]+)[_]+(\\w+)')\n",
    "event_features, event_levels, rest = get_feature_groups(rest, event_f_re)"
   ]
  },
  {
   "cell_type": "code",
   "execution_count": 14,
   "metadata": {
    "collapsed": false
   },
   "outputs": [
    {
     "name": "stdout",
     "output_type": "stream",
     "text": [
      "muons minibias photons\n",
      "instantLumi\n",
      "std p99 p1 p25 p75 p50 mean\n"
     ]
    }
   ],
   "source": [
    "for level in event_levels:\n",
    "    print ' '.join(list(level))"
   ]
  },
  {
   "cell_type": "code",
   "execution_count": 15,
   "metadata": {
    "collapsed": false
   },
   "outputs": [
    {
     "name": "stdout",
     "output_type": "stream",
     "text": [
      "muons minibias photons\n",
      "allChannels\n",
      "allParticles\n",
      "instantLumi\n",
      "std p99 p1 p25 p75 p50 mean\n"
     ]
    }
   ],
   "source": [
    "f = insert_fake_path(event_features, level = 1, path='allChannels')\n",
    "f = insert_fake_path(f, level = 2, path='allParticles')\n",
    "\n",
    "event_features = f\n",
    "\n",
    "for level in levels(event_features, n_levels=5):\n",
    "    print ' '.join(list(level))"
   ]
  },
  {
   "cell_type": "code",
   "execution_count": 16,
   "metadata": {
    "collapsed": false
   },
   "outputs": [],
   "source": [
    "stream_f_re = re.compile(r'([a-zA-Z]+)[_]([a-zA-Z]+)')\n",
    "stream_features, stream_levels, rest = get_feature_groups(rest, stream_f_re)"
   ]
  },
  {
   "cell_type": "code",
   "execution_count": 17,
   "metadata": {
    "collapsed": false
   },
   "outputs": [
    {
     "name": "stdout",
     "output_type": "stream",
     "text": [
      "muons minibias photons\n",
      "events nonzeros\n"
     ]
    }
   ],
   "source": [
    "for level in stream_levels:\n",
    "    print ' '.join(list(level))"
   ]
  },
  {
   "cell_type": "code",
   "execution_count": 18,
   "metadata": {
    "collapsed": true
   },
   "outputs": [],
   "source": [
    "def flatten(a_dict):\n",
    "    for k in a_dict:\n",
    "        if hasattr(a_dict[k], 'keys'):\n",
    "            for path, value in flatten(a_dict[k]):\n",
    "                yield (k, ) + path, value\n",
    "        else:\n",
    "            yield (k, ), a_dict[k]\n",
    "\n",
    "def merge(dicts):\n",
    "    result = dict()\n",
    "    for d in dicts:\n",
    "        for path, value in flatten(d):\n",
    "            insert(path, result, value)\n",
    "\n",
    "    return result\n",
    "\n",
    "def flatten_dict(d):\n",
    "    r = dict()\n",
    "    for paths, v in flatten(d):\n",
    "        k = '_'.join(paths)\n",
    "        r[k] = v\n",
    "    return r\n",
    "\n",
    "def squezze(d, depth = 5, last=2):\n",
    "    if depth - 1 == last:\n",
    "        for k in d:\n",
    "            d[k] = flatten_dict(d[k])\n",
    "        \n",
    "        return d\n",
    "    else:\n",
    "        for k in d:\n",
    "            d[k] = squezze(d[k], depth-1, last)\n",
    "        \n",
    "        return d"
   ]
  },
  {
   "cell_type": "code",
   "execution_count": 19,
   "metadata": {
    "collapsed": true
   },
   "outputs": [],
   "source": [
    "feature_hierarchy = merge([\n",
    "    particle_features, particle_type_features, event_features\n",
    "])"
   ]
  },
  {
   "cell_type": "code",
   "execution_count": 20,
   "metadata": {
    "collapsed": true
   },
   "outputs": [],
   "source": [
    "def get_levels(tree):\n",
    "    if hasattr(tree, 'keys'):\n",
    "        return set([1 + level for k in tree for level in get_levels(tree[k])])\n",
    "    else:\n",
    "        return set([0])\n",
    "\n",
    "def cut_tree(tree, level=2):\n",
    "    subtrees = list()\n",
    "\n",
    "    for k in tree:\n",
    "        levels = list(get_levels(tree[k]))\n",
    "        if len(levels) == 1 and levels[0] == level:\n",
    "            return [ (k, tree[k]) for k in tree ]\n",
    "        else:\n",
    "            return [ subtree for k in tree for subtree in cut_tree(tree[k], level)]"
   ]
  },
  {
   "cell_type": "code",
   "execution_count": 21,
   "metadata": {
    "collapsed": true
   },
   "outputs": [],
   "source": [
    "def feature_groups(subtrees):\n",
    "    groups = []\n",
    "    for name, subtree in subtrees:\n",
    "        for channel in subtree:\n",
    "            groups.append(subtree[channel].values())\n",
    "    \n",
    "    return groups"
   ]
  },
  {
   "cell_type": "code",
   "execution_count": 22,
   "metadata": {
    "collapsed": false
   },
   "outputs": [
    {
     "data": {
      "text/plain": [
       "[{u'minibias', u'muons', u'photons'},\n",
       " {u'PF', 'allChannels', u'calo', u'muons', u'photons'},\n",
       " {'allParticles', u'eta', u'fX', u'fY', u'fZ', u'mass', u'phi', u'pt'},\n",
       " {u'Px', u'Py', u'Pz', u'instantLumi', u'q1', u'q2', u'q3', u'q4', u'q5'},\n",
       " {u'mean', u'p1', u'p25', u'p50', u'p75', u'p99', u'std'}]"
      ]
     },
     "execution_count": 22,
     "metadata": {},
     "output_type": "execute_result"
    }
   ],
   "source": [
    "levels(feature_hierarchy, n_levels=5)"
   ]
  },
  {
   "cell_type": "code",
   "execution_count": 23,
   "metadata": {
    "collapsed": false
   },
   "outputs": [],
   "source": [
    "feature_groups = [\n",
    "    ('%s_%s' % (channel, k), d.values())\n",
    "    for channel, subtree in cut_tree(squezze(feature_hierarchy, depth=5, last=3), level=2)\n",
    "    for k, d in subtree.items()\n",
    "] + [\n",
    "    ('stream_features', flatten_dict(stream_features).values())\n",
    "]"
   ]
  },
  {
   "cell_type": "code",
   "execution_count": 24,
   "metadata": {
    "collapsed": false
   },
   "outputs": [
    {
     "data": {
      "text/plain": [
       "{'minibias_events': 'minibias_events',\n",
       " 'minibias_nonzeros': 'minibias_nonzeros',\n",
       " 'muons_events': 'muons_events',\n",
       " 'muons_nonzeros': 'muons_nonzeros',\n",
       " 'photons_events': 'photons_events',\n",
       " 'photons_nonzeros': 'photons_nonzeros'}"
      ]
     },
     "execution_count": 24,
     "metadata": {},
     "output_type": "execute_result"
    }
   ],
   "source": [
    "flatten_dict(stream_features)"
   ]
  },
  {
   "cell_type": "markdown",
   "metadata": {},
   "source": [
    "### Normalization"
   ]
  },
  {
   "cell_type": "code",
   "execution_count": 25,
   "metadata": {
    "collapsed": true
   },
   "outputs": [],
   "source": [
    "for col in X.columns:\n",
    "    c = X[col].values\n",
    "    \n",
    "    mean = np.mean(c)\n",
    "    std = np.std(c)\n",
    "    \n",
    "    if std > 1.0e-32:\n",
    "        X[col] = (c - mean) / std\n",
    "\n",
    "assert np.all(np.isfinite(X.values))"
   ]
  },
  {
   "cell_type": "markdown",
   "metadata": {},
   "source": [
    "## Feature groups"
   ]
  },
  {
   "cell_type": "code",
   "execution_count": 26,
   "metadata": {
    "collapsed": false
   },
   "outputs": [
    {
     "data": {
      "text/plain": [
       "[(u'muons_muons', 266),\n",
       " (u'muons_photons', 231),\n",
       " (u'muons_PF', 126),\n",
       " (u'muons_allChannels', 7),\n",
       " (u'muons_calo', 266),\n",
       " (u'minibias_muons', 266),\n",
       " (u'minibias_photons', 231),\n",
       " (u'minibias_PF', 126),\n",
       " (u'minibias_allChannels', 7),\n",
       " (u'minibias_calo', 266),\n",
       " (u'photons_muons', 266),\n",
       " (u'photons_photons', 231),\n",
       " (u'photons_PF', 126),\n",
       " (u'photons_allChannels', 7),\n",
       " (u'photons_calo', 266),\n",
       " ('stream_features', 6)]"
      ]
     },
     "execution_count": 26,
     "metadata": {},
     "output_type": "execute_result"
    }
   ],
   "source": [
    "[ (k, len(v)) for k, v in feature_groups]"
   ]
  },
  {
   "cell_type": "code",
   "execution_count": 27,
   "metadata": {
    "collapsed": true
   },
   "outputs": [],
   "source": [
    "fgroups = [ v for k, v in feature_groups ]"
   ]
  },
  {
   "cell_type": "markdown",
   "metadata": {},
   "source": [
    "## Independent fit"
   ]
  },
  {
   "cell_type": "code",
   "execution_count": 28,
   "metadata": {
    "collapsed": false
   },
   "outputs": [],
   "source": [
    "from rep.utils import train_test_split\n",
    "X_train, X_test, y_train, y_test, w_train, w_test = train_test_split(X, y, weights, train_size=0.2)"
   ]
  },
  {
   "cell_type": "code",
   "execution_count": 29,
   "metadata": {
    "collapsed": false
   },
   "outputs": [],
   "source": [
    "class StackedClassifier(object):\n",
    "    def __init__(self, base_clf_factory, meta_clf, feature_groups, cv=10, checks=5):\n",
    "        self.base_clf_factory = base_clf_factory\n",
    "        self.base_clfs = []\n",
    "        self.meta_clf = meta_clf\n",
    "        \n",
    "        self.feature_groups = feature_groups\n",
    "        self.cv = cv\n",
    "        self.checks = checks\n",
    "        \n",
    "    def fit_base_clfs(self, X, y, w):\n",
    "        self.base_clfs = []\n",
    "\n",
    "        for group in self.feature_groups:\n",
    "            clf = self.base_clf_factory(len(group))\n",
    "            \n",
    "            clf.fit(X[group], y, w)\n",
    "\n",
    "            self.base_clfs.append(clf)\n",
    "    \n",
    "    def predict_base_clfs(self, X):\n",
    "        scores = []\n",
    "\n",
    "        for clf, group in zip(self.base_clfs, self.feature_groups):\n",
    "            scores.append(\n",
    "                clf.predict_proba(X[group])[:, 1]\n",
    "            )\n",
    "        \n",
    "        return np.vstack(scores).T.astype('float64')\n",
    "        \n",
    "    def fit(self, X, y, sample_weights):\n",
    "        from sklearn.cross_validation import StratifiedKFold\n",
    "        from itertools import islice\n",
    "        \n",
    "        kfold = StratifiedKFold(y, n_folds=self.cv, shuffle=True)\n",
    "        \n",
    "        meta_scores = []\n",
    "        meta_labels = []\n",
    "        meta_weights = []\n",
    "\n",
    "        for train_ind, test_ind in islice(kfold, self.checks):\n",
    "            X_train = X.iloc[train_ind]\n",
    "            X_test = X.iloc[test_ind]\n",
    "            \n",
    "            self.fit_base_clfs(X_train, y[train_ind], sample_weights[train_ind])\n",
    "            scores = self.predict_base_clfs(X_test)\n",
    "            \n",
    "            meta_scores.append(scores)\n",
    "            \n",
    "            meta_labels.append(y[test_ind])\n",
    "            meta_weights.append(sample_weights[test_ind])\n",
    "        \n",
    "        meta_labels = np.hstack(meta_labels)\n",
    "        meta_scores = np.vstack(meta_scores)\n",
    "        meta_weights = np.hstack(meta_weights)\n",
    "        \n",
    "        self.meta_clf.fit(meta_scores, meta_labels, meta_weights)\n",
    "        self.fit_base_clfs(X, y, sample_weights)\n",
    "        \n",
    "        return self\n",
    "    \n",
    "    def predict_proba(self, X):\n",
    "        scores = self.predict_base_clfs(X)\n",
    "        return self.meta_clf.predict_proba(scores)"
   ]
  },
  {
   "cell_type": "code",
   "execution_count": 30,
   "metadata": {
    "collapsed": false
   },
   "outputs": [],
   "source": [
    "from rep.estimators import XGBoostClassifier\n",
    "from sklearn.ensemble import RandomForestClassifier\n",
    "\n",
    "base_clf = lambda fgroup: RandomForestClassifier(\n",
    "    n_estimators=32,\n",
    "    max_depth=7,\n",
    "    n_jobs=-1\n",
    ")\n",
    "\n",
    "meta_clf = XGBoostClassifier(\n",
    "    n_estimators=32,\n",
    "    max_depth = 4,\n",
    "    eta=0.2,\n",
    "    nthreads=32\n",
    ")\n",
    "\n",
    "stacked_rf_xgb_clf = StackedClassifier(base_clf, meta_clf, fgroups, cv=10, checks=5)"
   ]
  },
  {
   "cell_type": "code",
   "execution_count": 31,
   "metadata": {
    "collapsed": false
   },
   "outputs": [
    {
     "name": "stdout",
     "output_type": "stream",
     "text": [
      "CPU times: user 1min 9s, sys: 3.68 s, total: 1min 13s\n",
      "Wall time: 36.2 s\n"
     ]
    }
   ],
   "source": [
    "%%time\n",
    "\n",
    "stacked_rf_xgb_clf.fit(X_train, y_train, w_train)\n",
    "stacked_rf_xgb_proba = stacked_rf_xgb_clf.predict_proba(X_test)[:, 1].astype('float64')"
   ]
  },
  {
   "cell_type": "code",
   "execution_count": 32,
   "metadata": {
    "collapsed": true
   },
   "outputs": [],
   "source": [
    "from rep.estimators import XGBoostClassifier\n",
    "from sklearn.ensemble import RandomForestClassifier\n",
    "\n",
    "base_clf = lambda fgroup: XGBoostClassifier(\n",
    "    n_estimators=32, max_depth=6, eta=0.3, nthreads=32\n",
    ")\n",
    "\n",
    "meta_clf = XGBoostClassifier(\n",
    "    n_estimators=32,\n",
    "    max_depth = 4,\n",
    "    eta=0.2,\n",
    "    nthreads=32\n",
    ")\n",
    "\n",
    "stacked_double_xgb_clf = StackedClassifier(base_clf, meta_clf, fgroups, cv=10, checks=5)"
   ]
  },
  {
   "cell_type": "code",
   "execution_count": 33,
   "metadata": {
    "collapsed": false
   },
   "outputs": [
    {
     "name": "stdout",
     "output_type": "stream",
     "text": [
      "CPU times: user 43min 5s, sys: 17.7 s, total: 43min 22s\n",
      "Wall time: 1min 45s\n"
     ]
    }
   ],
   "source": [
    "%%time\n",
    "\n",
    "stacked_double_xgb_clf.fit(X_train, y_train, w_train)\n",
    "stacked_double_xgb_proba = stacked_double_xgb_clf.predict_proba(X_test)[:, 1].astype('float64')"
   ]
  },
  {
   "cell_type": "code",
   "execution_count": 34,
   "metadata": {
    "collapsed": false
   },
   "outputs": [
    {
     "name": "stdout",
     "output_type": "stream",
     "text": [
      "CPU times: user 5min 53s, sys: 3.38 s, total: 5min 56s\n",
      "Wall time: 19.4 s\n"
     ]
    }
   ],
   "source": [
    "%%time\n",
    "\n",
    "from rep.estimators import XGBoostClassifier\n",
    "\n",
    "xgb_clf = XGBoostClassifier(\n",
    "    n_estimators=64,\n",
    "    max_depth=6,\n",
    "    eta=0.3,\n",
    "    nthreads=32\n",
    ")\n",
    "\n",
    "xgb_clf.fit(X_train, y_train, w_train)\n",
    "xgb_proba = xgb_clf.predict_proba(X_test)[:, 1].astype('float64')"
   ]
  },
  {
   "cell_type": "code",
   "execution_count": 35,
   "metadata": {
    "collapsed": false
   },
   "outputs": [
    {
     "name": "stdout",
     "output_type": "stream",
     "text": [
      "CPU times: user 15.8 s, sys: 473 ms, total: 16.2 s\n",
      "Wall time: 1.59 s\n"
     ]
    }
   ],
   "source": [
    "%%time\n",
    "\n",
    "from sklearn.ensemble import RandomForestClassifier\n",
    "\n",
    "rf_clf = RandomForestClassifier(\n",
    "    n_estimators=128,\n",
    "    max_depth=8,\n",
    "    n_jobs=-1\n",
    ")\n",
    "\n",
    "rf_clf.fit(X_train, y_train, w_train)\n",
    "rf_proba = rf_clf.predict_proba(X_test)[:, 1].astype('float64')"
   ]
  },
  {
   "cell_type": "markdown",
   "metadata": {},
   "source": [
    "## AdaBoost"
   ]
  },
  {
   "cell_type": "code",
   "execution_count": 36,
   "metadata": {
    "collapsed": true
   },
   "outputs": [],
   "source": [
    "class AdaChain(object):\n",
    "    def __init__(self,\n",
    "                 base_clf_factory,\n",
    "                 feature_groups,\n",
    "                 max_learning_rate = 1.0,\n",
    "                 n_chains = 2):\n",
    "        self.base_clf_factory = base_clf_factory\n",
    "        self.chains = []\n",
    "        self.coefs = np.zeros(shape=(n_chains, len(feature_groups)))\n",
    "        \n",
    "        self.feature_groups = feature_groups\n",
    "        self.n_chains = n_chains\n",
    "        self.max_learning_rate = max_learning_rate\n",
    "        \n",
    "    def fit(self, X, y, sample_weights):\n",
    "        from scipy.optimize import minimize_scalar\n",
    "\n",
    "        chain_score = 0.5\n",
    "\n",
    "        for chain_i in xrange(self.n_chains):\n",
    "            chain = []\n",
    "            print 'Fitting %d chain' % chain_i\n",
    "\n",
    "            for fgi, fgroup in enumerate(self.feature_groups):\n",
    "                target_w = np.exp(-(2 * y - 1) * (2 * chain_score - 1))\n",
    "\n",
    "                clf = self.base_clf_factory(fgroup)\n",
    "\n",
    "                clf.fit(X[fgroup], y, sample_weights * target_w)\n",
    "\n",
    "                proba = clf.predict_proba(X[fgroup])[:, 1].astype('float64')\n",
    "                \n",
    "                def exp_loss(a):\n",
    "                    ensamble_score = chain_score + a * proba\n",
    "                    return np.sum(\n",
    "                        sample_weights * np.exp(-(2 * y - 1) * (2 * ensamble_score - 1))\n",
    "                    )\n",
    "                \n",
    "                self.coefs[chain_i, fgi] = minimize_scalar(\n",
    "                    exp_loss,\n",
    "                    method='bounded',\n",
    "                    bounds=(-self.max_learning_rate, self.max_learning_rate),\n",
    "                    options={ 'maxiter': 20 }\n",
    "                ).x\n",
    "                \n",
    "                chain_score += self.coefs[chain_i, fgi] * proba\n",
    "                chain.append(clf)\n",
    "            \n",
    "            self.chains.append(chain)\n",
    "\n",
    "        return self\n",
    "    \n",
    "    def predict_proba(self, X):\n",
    "        chain_score = 0.5\n",
    "\n",
    "        for chain_i, chain in enumerate(self.chains):\n",
    "            for fgi, (fgroup, clf) in enumerate(zip(self.feature_groups, chain)):\n",
    "                proba = clf.predict_proba(X[fgroup])[:, 1].astype('float64')\n",
    "                chain_score += self.coefs[chain_i, fgi] * proba\n",
    "        \n",
    "        scores = np.zeros(shape=(chain_score.shape[0], 2))\n",
    "        scores[:, 0] = 1 - chain_score\n",
    "        scores[:, 1] = chain_score\n",
    "        \n",
    "        return scores\n",
    "    \n",
    "    def staged_predict(self, X):\n",
    "        chain_score = 0.5\n",
    "\n",
    "        for chain_i, chain in enumerate(self.chains):\n",
    "            for fgi, (fgroup, clf) in enumerate(zip(self.feature_groups, chain)):\n",
    "                proba = clf.predict_proba(X[fgroup])[:, 1].astype('float64')\n",
    "                chain_score += self.coefs[chain_i, fgi] * proba\n",
    "                \n",
    "                scores = np.zeros(shape=(chain_score.shape[0], 2))\n",
    "                scores[:, 0] = 1 - chain_score\n",
    "                scores[:, 1] = chain_score\n",
    "                \n",
    "                yield scores"
   ]
  },
  {
   "cell_type": "code",
   "execution_count": 37,
   "metadata": {
    "collapsed": false
   },
   "outputs": [],
   "source": [
    "from rep.estimators import XGBoostClassifier\n",
    "base_clf_factory = lambda l: XGBoostClassifier(n_estimators=16, max_depth=6, nthreads=32)\n",
    "\n",
    "\n",
    "chain_xgb = AdaChain(base_clf_factory, fgroups, n_chains=4, max_learning_rate=0.5)"
   ]
  },
  {
   "cell_type": "code",
   "execution_count": 38,
   "metadata": {
    "collapsed": false
   },
   "outputs": [
    {
     "name": "stdout",
     "output_type": "stream",
     "text": [
      "Fitting 0 chain\n",
      "Fitting 1 chain\n",
      "Fitting 2 chain\n",
      "Fitting 3 chain\n",
      "CPU times: user 25min 20s, sys: 10.7 s, total: 25min 31s\n",
      "Wall time: 1min 3s\n"
     ]
    },
    {
     "data": {
      "text/plain": [
       "<__main__.AdaChain at 0x7fd906bc8290>"
      ]
     },
     "execution_count": 38,
     "metadata": {},
     "output_type": "execute_result"
    }
   ],
   "source": [
    "%%time\n",
    "\n",
    "chain_xgb.fit(X_train, y_train, w_train)"
   ]
  },
  {
   "cell_type": "code",
   "execution_count": 39,
   "metadata": {
    "collapsed": false
   },
   "outputs": [],
   "source": [
    "chain_train_aucs = []\n",
    "chain_test_aucs = []\n",
    "\n",
    "from sklearn.metrics import roc_auc_score\n",
    "\n",
    "for proba_train in chain_xgb.staged_predict(X_train):\n",
    "    chain_train_aucs.append(\n",
    "        roc_auc_score(y_train, proba_train[:, 1], sample_weight=w_train)\n",
    "    )\n",
    "    \n",
    "for proba_test in chain_xgb.staged_predict(X_test):\n",
    "    chain_test_aucs.append(\n",
    "        roc_auc_score(y_test, proba_test[:, 1], sample_weight=w_test)\n",
    "    )"
   ]
  },
  {
   "cell_type": "code",
   "execution_count": 40,
   "metadata": {
    "collapsed": false
   },
   "outputs": [
    {
     "data": {
      "text/plain": [
       "<matplotlib.legend.Legend at 0x7fd905437910>"
      ]
     },
     "execution_count": 40,
     "metadata": {},
     "output_type": "execute_result"
    },
    {
     "data": {
      "image/png": "[encoded data removed]",
      "text/plain": [
       "<matplotlib.figure.Figure at 0x7fd905b863d0>"
      ]
     },
     "metadata": {},
     "output_type": "display_data"
    }
   ],
   "source": [
    "plt.figure(figsize=(12, 4))\n",
    "plt.plot(chain_train_aucs, label='train')\n",
    "plt.plot(chain_test_aucs, label='test')\n",
    "plt.legend(loc='lower right')"
   ]
  },
  {
   "cell_type": "code",
   "execution_count": 41,
   "metadata": {
    "collapsed": true
   },
   "outputs": [],
   "source": [
    "chain_xgb_proba = chain_xgb.predict_proba(X_test)[:, 1].astype('float64')"
   ]
  },
  {
   "cell_type": "code",
   "execution_count": 42,
   "metadata": {
    "collapsed": false
   },
   "outputs": [
    {
     "name": "stdout",
     "output_type": "stream",
     "text": [
      "Stacked RF + XGB......... 0.965\n",
      "Stacked XGB + XGB........ 0.983\n",
      "XGB...................... 0.985\n",
      "RF....................... 0.951\n",
      "chain XGB................ 0.968\n"
     ]
    },
    {
     "data": {
      "image/png": "[encoded data removed]",
      "text/plain": [
       "<matplotlib.figure.Figure at 0x7fd9033c3310>"
      ]
     },
     "metadata": {},
     "output_type": "display_data"
    }
   ],
   "source": [
    "from sklearn.metrics import roc_curve, auc\n",
    "\n",
    "plt.figure(figsize=(12, 12))\n",
    "\n",
    "fpr, tpr, _ = roc_curve(y_test, stacked_rf_xgb_proba, sample_weight=w_test)\n",
    "auc_score = auc(fpr, tpr, reorder=True)\n",
    "plt.plot(fpr, tpr, '-', label='%s, ROC AUC: %.3f' % ('Stacked RF + XGB', auc_score))\n",
    "\n",
    "print 'Stacked RF + XGB'.ljust(25, '.') ,'%.3f' % auc_score\n",
    "\n",
    "fpr, tpr, _ = roc_curve(y_test, stacked_double_xgb_proba, sample_weight=w_test)\n",
    "auc_score = auc(fpr, tpr, reorder=True)\n",
    "plt.plot(fpr, tpr, '-', label='%s, ROC AUC: %.3f' % ('Stacked XGB + XGB', auc_score))\n",
    "\n",
    "print 'Stacked XGB + XGB'.ljust(25, '.') ,'%.3f' % auc_score\n",
    "\n",
    "fpr, tpr, _ = roc_curve(y_test, xgb_proba, sample_weight=w_test)\n",
    "auc_score = auc(fpr, tpr, reorder=True)\n",
    "plt.plot(fpr, tpr, '-', label='%s, ROC AUC: %.3f' % ('XGB', auc_score))\n",
    "\n",
    "print 'XGB'.ljust(25, '.') ,'%.3f' % auc_score\n",
    "\n",
    "fpr, tpr, _ = roc_curve(y_test, rf_proba, sample_weight=w_test)\n",
    "auc_score = auc(fpr, tpr, reorder=True)\n",
    "plt.plot(fpr, tpr, '-', label='%s, ROC AUC: %.3f' % ('RF', auc_score))\n",
    "\n",
    "print 'RF'.ljust(25, '.') ,'%.3f' % auc_score\n",
    "\n",
    "fpr, tpr, _ = roc_curve(y_test, chain_xgb_proba, sample_weight=w_test)\n",
    "auc_score = auc(fpr, tpr, reorder=True)\n",
    "plt.plot(fpr, tpr, '-', label='%s, ROC AUC: %.3f' % ('chain XGB', auc_score))\n",
    "\n",
    "print 'chain XGB'.ljust(25, '.') ,'%.3f' % auc_score\n",
    "\n",
    "plt.plot([0, 1], [0, 1], '--')\n",
    "plt.legend(loc='lower right')\n",
    "plt.show()"
   ]
  },
  {
   "cell_type": "code",
   "execution_count": null,
   "metadata": {
    "collapsed": true
   },
   "outputs": [],
   "source": []
  }
 ],
 "metadata": {
  "kernelspec": {
   "display_name": "Python 2",
   "language": "python",
   "name": "python2"
  },
  "language_info": {
   "codemirror_mode": {
    "name": "ipython",
    "version": 2
   },
   "file_extension": ".py",
   "mimetype": "text/x-python",
   "name": "python",
   "nbconvert_exporter": "python",
   "pygments_lexer": "ipython2",
   "version": "2.7.10"
  }
 },
 "nbformat": 4,
 "nbformat_minor": 0
}
